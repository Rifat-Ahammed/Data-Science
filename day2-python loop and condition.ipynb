{
 "cells": [
  {
   "cell_type": "code",
   "execution_count": 2,
   "id": "0df60150-8ea5-4da9-884d-7b57649ed3c2",
   "metadata": {},
   "outputs": [
    {
     "name": "stdout",
     "output_type": "stream",
     "text": [
      "123\n"
     ]
    }
   ],
   "source": [
    "print(int(\"123\"))"
   ]
  },
  {
   "cell_type": "code",
   "execution_count": 3,
   "id": "3c40e70b-68e7-4e72-bac6-ed2602178e9a",
   "metadata": {},
   "outputs": [
    {
     "name": "stdout",
     "output_type": "stream",
     "text": [
      "My age is:  24\n"
     ]
    }
   ],
   "source": [
    "age = 24\n",
    "print(\"My age is: \", age)"
   ]
  },
  {
   "cell_type": "code",
   "execution_count": 5,
   "id": "fa74d7b4-566a-44dd-a971-5e572750d885",
   "metadata": {},
   "outputs": [
    {
     "name": "stdout",
     "output_type": "stream",
     "text": [
      "my name is Rifat and age is 24 \n"
     ]
    }
   ],
   "source": [
    "## format\n",
    "name = \"Rifat\"\n",
    "age = 24\n",
    "print(\"my name is {} and age is {} \". format(name, age))"
   ]
  },
  {
   "cell_type": "code",
   "execution_count": 6,
   "id": "3399f977-daee-49f4-b3cb-1d3f2dd13f79",
   "metadata": {},
   "outputs": [
    {
     "name": "stdout",
     "output_type": "stream",
     "text": [
      "My name is Rifat and age is 24 \n"
     ]
    }
   ],
   "source": [
    "## place holder\n",
    "\n",
    "name = \"Rifat\"\n",
    "age = 24\n",
    "\n",
    "print(\"My name is {firstname} and age is {firstage} \".format(firstname = name, firstage = age))"
   ]
  },
  {
   "cell_type": "code",
   "execution_count": 7,
   "id": "72d72ba2-5bb5-418c-b104-a4e30d33f3f3",
   "metadata": {},
   "outputs": [
    {
     "name": "stdout",
     "output_type": "stream",
     "text": [
      " My age is 24 and i am doing my BSc with the name of rifat ahammed\n"
     ]
    }
   ],
   "source": [
    "## practice - 1\n",
    "name = \"rifat ahammed\"\n",
    "age = 24\n",
    "degree = \"BSc\"\n",
    "print(f\" My age is {age} and i am doing my {degree} with the name of {name}\")"
   ]
  },
  {
   "cell_type": "code",
   "execution_count": 8,
   "id": "1685b80f-b33b-478e-8524-944398740b0c",
   "metadata": {},
   "outputs": [
    {
     "name": "stdout",
     "output_type": "stream",
     "text": [
      " My age is 24 and i am doing my BSc with the name of rifat ahammed\n"
     ]
    }
   ],
   "source": [
    "print(\" My age is {firstage} and i am doing my {bachelor} with the name of {firstname}\". format(firstage = age, firstname = name, bachelor = degree))"
   ]
  },
  {
   "cell_type": "markdown",
   "id": "d02790a1-ba37-4410-ae33-025f77edd9b3",
   "metadata": {},
   "source": [
    "## Control Flow \n",
    "## Decission making statement"
   ]
  },
  {
   "cell_type": "code",
   "execution_count": 10,
   "id": "cc552a79-cf8f-4bd5-8ad4-01760634e782",
   "metadata": {},
   "outputs": [
    {
     "name": "stdout",
     "output_type": "stream",
     "text": [
      "Not eligible\n"
     ]
    }
   ],
   "source": [
    " # if statement\n",
    "    \n",
    "age = 17\n",
    "\n",
    "if age >= 18:\n",
    "    print(\"Eligible\")\n",
    "    \n",
    "else:\n",
    "    print(\"Not eligible\")"
   ]
  },
  {
   "cell_type": "code",
   "execution_count": 12,
   "id": "bf0972fd-273a-4599-bb88-2f1537acf9e3",
   "metadata": {},
   "outputs": [
    {
     "name": "stdin",
     "output_type": "stream",
     "text": [
      "Enter your age:  24\n"
     ]
    },
    {
     "name": "stdout",
     "output_type": "stream",
     "text": [
      "Young blood\n"
     ]
    }
   ],
   "source": [
    "# task\n",
    "\n",
    "age = int(input(\"Enter your age: \"))\n",
    "if age >=18 and age < 45:\n",
    "    print(\"Young blood\")"
   ]
  },
  {
   "cell_type": "code",
   "execution_count": 4,
   "id": "12b6f97d-1c7c-4155-a175-88c9a3d396f1",
   "metadata": {},
   "outputs": [
    {
     "name": "stdin",
     "output_type": "stream",
     "text": [
      "Enter product price 1200\n"
     ]
    },
    {
     "name": "stdout",
     "output_type": "stream",
     "text": [
      "Product price is: 960.0\n"
     ]
    }
   ],
   "source": [
    "## task - 2\n",
    "\n",
    "price = float(input(\"Enter product price\"))\n",
    "\n",
    "if price > 1000:\n",
    "    print(f\"Product price is: {price-(price*0.2)}\")\n",
    "    \n",
    "elif price<=1000:\n",
    "    print(f\"Product price is: {price-(price*0.3)}\")"
   ]
  },
  {
   "cell_type": "code",
   "execution_count": 1,
   "id": "a634c55e-f1ea-4608-962a-d93c84b56f0e",
   "metadata": {},
   "outputs": [
    {
     "data": {
      "text/plain": [
       "3"
      ]
     },
     "execution_count": 1,
     "metadata": {},
     "output_type": "execute_result"
    }
   ],
   "source": [
    "1+2"
   ]
  },
  {
   "cell_type": "code",
   "execution_count": 5,
   "id": "8f3b4588-a7f4-4d67-b465-eb0282e6e5a9",
   "metadata": {},
   "outputs": [
    {
     "name": "stdin",
     "output_type": "stream",
     "text": [
      "Enter the price 4000\n"
     ]
    },
    {
     "name": "stdout",
     "output_type": "stream",
     "text": [
      "Congratulation, You got a Goa trip\n",
      "Price is 3200.0: \n"
     ]
    }
   ],
   "source": [
    "# Task -3\n",
    "\n",
    "price = int(input(\"Enter the price\"))\n",
    "\n",
    "if price > 3000:\n",
    "    if price == 4000:\n",
    "        print(\"Congratulation, You got a Goa trip\")\n",
    "    print(\"Price is {}: \". format(price*0.8))\n",
    "     \n",
    "elif price >= 2000 and price <=3000:\n",
    "    if price == 2999:\n",
    "        print(\"Congratulation, You got a gift\")\n",
    "    print(\"price is {}: \". format(price*0.7))\n",
    "    \n",
    "else: \n",
    "    print(\"Price is {}: \". format(price*0.6))"
   ]
  },
  {
   "cell_type": "markdown",
   "id": "2873c04a-5996-4152-ae91-73aaad06b9e0",
   "metadata": {},
   "source": [
    "# Loop Statements\n",
    "## For loop\n",
    "## while loop\n",
    "## nested loop\n",
    "## loop control ( break, continue, pass)"
   ]
  },
  {
   "cell_type": "code",
   "execution_count": 7,
   "id": "08a62a2c-888c-4284-a061-13537386b741",
   "metadata": {},
   "outputs": [
    {
     "name": "stdout",
     "output_type": "stream",
     "text": [
      "24\n",
      "25\n",
      "26\n",
      "27\n",
      "28\n",
      "29\n",
      "30\n",
      "31\n",
      "32\n",
      "33\n",
      "34\n",
      "35\n",
      "36\n",
      "37\n",
      "38\n",
      "39\n",
      "40\n",
      "41\n",
      "42\n",
      "43\n",
      "44\n",
      "45\n",
      "46\n",
      "47\n",
      "48\n",
      "49\n",
      "50\n",
      "51\n",
      "52\n",
      "53\n",
      "54\n",
      "55\n",
      "56\n",
      "57\n",
      "58\n",
      "59\n",
      "60\n",
      "Time to retirement\n"
     ]
    }
   ],
   "source": [
    "# while loop (while-else)\n",
    "\n",
    "age = 24\n",
    "\n",
    "while age <= 60:\n",
    "    print(age)\n",
    "    age +=1\n",
    "else:\n",
    "    print(\"Time to retirement\")"
   ]
  },
  {
   "cell_type": "code",
   "execution_count": 9,
   "id": "fd09bb45-b740-49f4-a593-25e9c003e8df",
   "metadata": {},
   "outputs": [
    {
     "name": "stdout",
     "output_type": "stream",
     "text": [
      "1000\n",
      "900\n",
      "800\n",
      "700\n",
      "600\n",
      "500\n",
      "400\n",
      "300\n",
      "200\n",
      "100\n",
      "put money int the ATM\n"
     ]
    }
   ],
   "source": [
    "# Atm bank\n",
    "\n",
    "money = 1000\n",
    "\n",
    "while money!=0:\n",
    "    print(money)\n",
    "    money -=100\n",
    "else:\n",
    "    print(\"put money int the ATM\")"
   ]
  },
  {
   "cell_type": "markdown",
   "id": "25e4524d-4019-43d5-9862-26c2810dae54",
   "metadata": {},
   "source": [
    "# Foor loop"
   ]
  },
  {
   "cell_type": "code",
   "execution_count": 1,
   "id": "bf2d8ac1-4578-4424-9f38-d52e7d00798e",
   "metadata": {},
   "outputs": [],
   "source": [
    "lst = [\"rifat\", 1, 2, 3, \"apple\", \"banana\"]"
   ]
  },
  {
   "cell_type": "code",
   "execution_count": 5,
   "id": "925b484d-9b25-4025-8da6-223e23c94bda",
   "metadata": {},
   "outputs": [
    {
     "name": "stdout",
     "output_type": "stream",
     "text": [
      "<class 'int'>\n"
     ]
    }
   ],
   "source": [
    "print(type(lst[1]))"
   ]
  },
  {
   "cell_type": "code",
   "execution_count": 6,
   "id": "7c948db9-ade3-4f88-8a19-2c9336780e61",
   "metadata": {},
   "outputs": [
    {
     "name": "stdout",
     "output_type": "stream",
     "text": [
      "rifat 1 2 3 apple banana "
     ]
    }
   ],
   "source": [
    "for x in lst:\n",
    "    print(x, end=\" \")"
   ]
  },
  {
   "cell_type": "code",
   "execution_count": 9,
   "id": "88d3c680-fe9b-4c9d-8322-2438a6b5763c",
   "metadata": {},
   "outputs": [
    {
     "name": "stdout",
     "output_type": "stream",
     "text": [
      "M a n g o "
     ]
    }
   ],
   "source": [
    "fruit = \"Mango\"\n",
    "for a in fruit:\n",
    "    print(a, end = \" \")"
   ]
  },
  {
   "cell_type": "code",
   "execution_count": 10,
   "id": "2841a3c9-b291-449e-9e6a-e1502cfaf81c",
   "metadata": {},
   "outputs": [
    {
     "data": {
      "text/plain": [
       "'M'"
      ]
     },
     "execution_count": 10,
     "metadata": {},
     "output_type": "execute_result"
    }
   ],
   "source": [
    "fruit[0]"
   ]
  },
  {
   "cell_type": "markdown",
   "id": "6ae81c84-a796-48c1-b651-c931c5fe05c6",
   "metadata": {},
   "source": [
    "### Nested loop"
   ]
  },
  {
   "cell_type": "code",
   "execution_count": 11,
   "id": "9db52445-081a-43eb-8c63-062371192195",
   "metadata": {},
   "outputs": [
    {
     "data": {
      "text/plain": [
       "range"
      ]
     },
     "execution_count": 11,
     "metadata": {},
     "output_type": "execute_result"
    }
   ],
   "source": [
    "\"\"\" \n",
    "range:Return an object that produces a sequence of integers from start (inclusive)\n",
    "to stop (exclusive) by step\n",
    "\n",
    "\"\"\"\n",
    "range"
   ]
  },
  {
   "cell_type": "code",
   "execution_count": 13,
   "id": "89586e68-6522-4564-88e5-4f3ae3fb2de1",
   "metadata": {},
   "outputs": [
    {
     "name": "stdout",
     "output_type": "stream",
     "text": [
      "1\n",
      "2\n",
      "3\n",
      "4\n",
      "5\n",
      "6\n",
      "7\n",
      "8\n",
      "9\n"
     ]
    }
   ],
   "source": [
    "for i in range(1, 10):\n",
    "    print(i)"
   ]
  },
  {
   "cell_type": "code",
   "execution_count": 15,
   "id": "c4f6fed7-2e65-4af0-98f3-5f4390ef4d41",
   "metadata": {},
   "outputs": [
    {
     "name": "stdout",
     "output_type": "stream",
     "text": [
      "1 \n",
      "3 \n",
      "5 \n",
      "7 \n",
      "9 \n"
     ]
    }
   ],
   "source": [
    "for i in range (1, 10, 2):\n",
    "    print(i, \"\\r\")"
   ]
  },
  {
   "cell_type": "code",
   "execution_count": 20,
   "id": "432aa289-1e15-478b-9f41-21a94f9f9d0a",
   "metadata": {},
   "outputs": [
    {
     "name": "stdout",
     "output_type": "stream",
     "text": [
      "*\n",
      "**\n",
      "***\n",
      "****\n",
      "*****\n",
      "******\n",
      "*******\n"
     ]
    }
   ],
   "source": [
    "## pattern\n",
    "\n",
    "n=7\n",
    "\n",
    "for i in range(0, n):\n",
    "    for j in range (0, i+1):\n",
    "        print(\"*\", end = \"\")\n",
    "    print(\"\\r\")"
   ]
  },
  {
   "cell_type": "code",
   "execution_count": 25,
   "id": "96787ab4-4846-45a9-bce9-8b477f5bbdb9",
   "metadata": {},
   "outputs": [
    {
     "name": "stdout",
     "output_type": "stream",
     "text": [
      "mango\n",
      "apple\n",
      "banana\n",
      "here is your fruit\n"
     ]
    }
   ],
   "source": [
    "## break, continue\n",
    "\n",
    "# break\n",
    "\n",
    "fruit = [\"mango\", \"apple\", \"banana\", \"orange\", \"cherry\"]\n",
    "\n",
    "for i in fruit:\n",
    "    if i == \"orange\":\n",
    "        print(\"here is your fruit\")\n",
    "        break\n",
    "    print(i)\n"
   ]
  },
  {
   "cell_type": "code",
   "execution_count": 26,
   "id": "54caa438-c556-4627-a00e-f9d0a763ac94",
   "metadata": {},
   "outputs": [
    {
     "name": "stdout",
     "output_type": "stream",
     "text": [
      "mango\n",
      "apple\n",
      "banana\n",
      "here is your fruit\n",
      "orange\n",
      "cherry\n"
     ]
    }
   ],
   "source": [
    "#pass\n",
    "\n",
    "for i in fruit:\n",
    "    if i == \"orange\":\n",
    "        print(\"here is your fruit\")\n",
    "        pass\n",
    "    print(i)"
   ]
  },
  {
   "cell_type": "code",
   "execution_count": 27,
   "id": "eb0ed35d-9ab8-4d93-be51-2b81a9b08d3a",
   "metadata": {},
   "outputs": [
    {
     "name": "stdout",
     "output_type": "stream",
     "text": [
      "mango\n",
      "apple\n",
      "banana\n",
      "here is your fruit\n",
      "cherry\n"
     ]
    }
   ],
   "source": [
    "# continue\n",
    "\n",
    "for i in fruit:\n",
    "    if i == \"orange\":\n",
    "        print(\"here is your fruit\")\n",
    "        continue\n",
    "    print(i)"
   ]
  },
  {
   "cell_type": "code",
   "execution_count": null,
   "id": "0786e832-6c6d-4a3d-980d-bd2431dd8cc7",
   "metadata": {},
   "outputs": [],
   "source": []
  }
 ],
 "metadata": {
  "kernelspec": {
   "display_name": "Python 3 (ipykernel)",
   "language": "python",
   "name": "python3"
  },
  "language_info": {
   "codemirror_mode": {
    "name": "ipython",
    "version": 3
   },
   "file_extension": ".py",
   "mimetype": "text/x-python",
   "name": "python",
   "nbconvert_exporter": "python",
   "pygments_lexer": "ipython3",
   "version": "3.10.8"
  }
 },
 "nbformat": 4,
 "nbformat_minor": 5
}
