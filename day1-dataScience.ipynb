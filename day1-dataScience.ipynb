{
 "cells": [
  {
   "cell_type": "code",
   "execution_count": 12,
   "id": "d2d0bb56-8bc7-4dc6-8e87-f830c82192fa",
   "metadata": {},
   "outputs": [
    {
     "data": {
      "text/plain": [
       "30"
      ]
     },
     "execution_count": 12,
     "metadata": {},
     "output_type": "execute_result"
    }
   ],
   "source": [
    "###this the first jupitar\n",
    "a=10\n",
    "b=20\n",
    "a+b"
   ]
  },
  {
   "cell_type": "code",
   "execution_count": 9,
   "id": "9898ebff-d366-4b83-983d-a2c98e26534e",
   "metadata": {},
   "outputs": [
    {
     "data": {
      "text/plain": [
       "2"
      ]
     },
     "execution_count": 9,
     "metadata": {},
     "output_type": "execute_result"
    }
   ],
   "source": [
    "1+1"
   ]
  },
  {
   "cell_type": "markdown",
   "id": "c7d79356-7b96-4837-b482-af25717280bd",
   "metadata": {},
   "source": [
    "#hello"
   ]
  },
  {
   "cell_type": "markdown",
   "id": "86e1feed-5883-452a-99dc-b9f21179ab9e",
   "metadata": {},
   "source": [
    "# Hello"
   ]
  },
  {
   "cell_type": "markdown",
   "id": "fdb546d7-509a-4406-bd34-a6a32eed8d17",
   "metadata": {},
   "source": [
    "## Numbers"
   ]
  },
  {
   "cell_type": "code",
   "execution_count": 2,
   "id": "70391c66-ce09-4bf4-a516-35e4d7ea6982",
   "metadata": {},
   "outputs": [
    {
     "name": "stdout",
     "output_type": "stream",
     "text": [
      "4\n"
     ]
    }
   ],
   "source": [
    "print(1+3)"
   ]
  },
  {
   "cell_type": "code",
   "execution_count": 5,
   "id": "3312f132-9312-4d31-aba5-ae9fcfa9c86e",
   "metadata": {},
   "outputs": [
    {
     "name": "stdout",
     "output_type": "stream",
     "text": [
      "Hello world. My name is Rifat Ahammed.\n",
      "i am a stduent\n"
     ]
    }
   ],
   "source": [
    "print(\"Hello world. My name is Rifat Ahammed.\\ni am a stduent\")"
   ]
  },
  {
   "cell_type": "markdown",
   "id": "bc47445e-d12a-49f8-898a-bf64458f491e",
   "metadata": {},
   "source": [
    "## variable assignment"
   ]
  },
  {
   "cell_type": "markdown",
   "id": "2d952ae0-aa98-416b-9524-7694ad7efb5d",
   "metadata": {},
   "source": [
    "## complex number"
   ]
  },
  {
   "cell_type": "code",
   "execution_count": 7,
   "id": "4c1a042a-5de1-4961-bcfe-929f21c01b51",
   "metadata": {},
   "outputs": [
    {
     "data": {
      "text/plain": [
       "complex"
      ]
     },
     "execution_count": 7,
     "metadata": {},
     "output_type": "execute_result"
    }
   ],
   "source": [
    "type(1+2j)"
   ]
  },
  {
   "cell_type": "code",
   "execution_count": 11,
   "id": "32291944-a8c6-4e58-949e-4a2651ca11d8",
   "metadata": {},
   "outputs": [
    {
     "data": {
      "text/plain": [
       "False"
      ]
     },
     "execution_count": 11,
     "metadata": {},
     "output_type": "execute_result"
    }
   ],
   "source": [
    "not True"
   ]
  },
  {
   "cell_type": "code",
   "execution_count": 9,
   "id": "71adb6c1-e93a-42bc-974e-65b68fe57b88",
   "metadata": {},
   "outputs": [
    {
     "data": {
      "text/plain": [
       "True"
      ]
     },
     "execution_count": 9,
     "metadata": {},
     "output_type": "execute_result"
    }
   ],
   "source": [
    "True or False"
   ]
  },
  {
   "cell_type": "code",
   "execution_count": 10,
   "id": "a14a7b6a-09ae-49a2-ac90-1edb9a4a1c4e",
   "metadata": {},
   "outputs": [
    {
     "data": {
      "text/plain": [
       "False"
      ]
     },
     "execution_count": 10,
     "metadata": {},
     "output_type": "execute_result"
    }
   ],
   "source": [
    "not True"
   ]
  },
  {
   "cell_type": "code",
   "execution_count": 12,
   "id": "46db0491-8811-4cc3-81a5-904dabfc7a92",
   "metadata": {},
   "outputs": [
    {
     "name": "stdout",
     "output_type": "stream",
     "text": [
      "True\n"
     ]
    }
   ],
   "source": [
    "a=1\n",
    "if bool (a)==True:\n",
    "    print(\"True\")"
   ]
  },
  {
   "cell_type": "markdown",
   "id": "55350835-ab13-4309-8fc9-813353ec3219",
   "metadata": {
    "tags": []
   },
   "source": [
    "## Dynamik typing"
   ]
  },
  {
   "cell_type": "code",
   "execution_count": 13,
   "id": "ea442d42-2ecf-41ec-a4d1-06b1c43141d1",
   "metadata": {},
   "outputs": [
    {
     "name": "stdout",
     "output_type": "stream",
     "text": [
      "<class 'str'>\n"
     ]
    }
   ],
   "source": [
    "a=12\n",
    "name = \"Rifat\"\n",
    "print(type(name))"
   ]
  },
  {
   "cell_type": "code",
   "execution_count": 14,
   "id": "2e678ddb-df3b-441c-99fc-8891260256e9",
   "metadata": {},
   "outputs": [
    {
     "data": {
      "text/plain": [
       "int"
      ]
     },
     "execution_count": 14,
     "metadata": {},
     "output_type": "execute_result"
    }
   ],
   "source": [
    "type(a)"
   ]
  },
  {
   "cell_type": "code",
   "execution_count": null,
   "id": "ba218f3b-4be9-4b9e-8963-b0487e004323",
   "metadata": {},
   "outputs": [],
   "source": [
    "## concatenation between different types"
   ]
  },
  {
   "cell_type": "code",
   "execution_count": null,
   "id": "3c9488b0-66c7-4979-9c1e-408072783312",
   "metadata": {},
   "outputs": [],
   "source": []
  }
 ],
 "metadata": {
  "kernelspec": {
   "display_name": "Python 3 (ipykernel)",
   "language": "python",
   "name": "python3"
  },
  "language_info": {
   "codemirror_mode": {
    "name": "ipython",
    "version": 3
   },
   "file_extension": ".py",
   "mimetype": "text/x-python",
   "name": "python",
   "nbconvert_exporter": "python",
   "pygments_lexer": "ipython3",
   "version": "3.10.8"
  }
 },
 "nbformat": 4,
 "nbformat_minor": 5
}
